{
 "cells": [
  {
   "cell_type": "code",
   "execution_count": 1,
   "id": "866d1b1e",
   "metadata": {},
   "outputs": [],
   "source": [
    "import chromadb\n",
    "client = chromadb.PersistentClient()"
   ]
  },
  {
   "cell_type": "code",
   "execution_count": 2,
   "id": "4f7e1385",
   "metadata": {},
   "outputs": [],
   "source": [
    "collection = client.get_or_create_collection(\n",
    "    name=\"24winterdev\"\n",
    ")"
   ]
  },
  {
   "cell_type": "code",
   "execution_count": 3,
   "id": "f5cf10db",
   "metadata": {},
   "outputs": [
    {
     "data": {
      "text/html": [
       "<div>\n",
       "<style scoped>\n",
       "    .dataframe tbody tr th:only-of-type {\n",
       "        vertical-align: middle;\n",
       "    }\n",
       "\n",
       "    .dataframe tbody tr th {\n",
       "        vertical-align: top;\n",
       "    }\n",
       "\n",
       "    .dataframe thead th {\n",
       "        text-align: right;\n",
       "    }\n",
       "</style>\n",
       "<table border=\"1\" class=\"dataframe\">\n",
       "  <thead>\n",
       "    <tr style=\"text-align: right;\">\n",
       "      <th></th>\n",
       "      <th>Question</th>\n",
       "      <th>Answer</th>\n",
       "    </tr>\n",
       "  </thead>\n",
       "  <tbody>\n",
       "    <tr>\n",
       "      <th>212</th>\n",
       "      <td>1학년도 지원 자격이 있나요?</td>\n",
       "      <td>에코노베이션은 나이, 휴학 여부, 전공에 관계없이 IT에 관심이 있고 열정이 있다면...</td>\n",
       "    </tr>\n",
       "    <tr>\n",
       "      <th>81</th>\n",
       "      <td>에코노베이션의 창립 연도는 언제인가요?</td>\n",
       "      <td>에코노베이션은 2011년에 시작되었습니다 :)</td>\n",
       "    </tr>\n",
       "    <tr>\n",
       "      <th>389</th>\n",
       "      <td>이번 데브 장소는 어디인가요?</td>\n",
       "      <td>오프라인 위치는 전남대학교 스토리움입니다! 에코노베이션 YouTube Live ht...</td>\n",
       "    </tr>\n",
       "    <tr>\n",
       "      <th>465</th>\n",
       "      <td>너와 그린 기린 그림은 어떤 분야의 프로젝트인가요?</td>\n",
       "      <td>*23#팀의 너와 그린 기린 그림은 WEB 프로젝트로, 대학생들을 위한 지역기반 펀...</td>\n",
       "    </tr>\n",
       "    <tr>\n",
       "      <th>276</th>\n",
       "      <td>에코노베이션 동아리의 정기 모임 일정은 어떻게 되나요?</td>\n",
       "      <td>고정적으로 정해진 활동으로는 금요일 17시에 진행되는 주간 발표가 있습니다! 이외에...</td>\n",
       "    </tr>\n",
       "  </tbody>\n",
       "</table>\n",
       "</div>"
      ],
      "text/plain": [
       "                           Question  \\\n",
       "212                1학년도 지원 자격이 있나요?   \n",
       "81            에코노베이션의 창립 연도는 언제인가요?   \n",
       "389                이번 데브 장소는 어디인가요?   \n",
       "465    너와 그린 기린 그림은 어떤 분야의 프로젝트인가요?   \n",
       "276  에코노베이션 동아리의 정기 모임 일정은 어떻게 되나요?   \n",
       "\n",
       "                                                Answer  \n",
       "212  에코노베이션은 나이, 휴학 여부, 전공에 관계없이 IT에 관심이 있고 열정이 있다면...  \n",
       "81                           에코노베이션은 2011년에 시작되었습니다 :)  \n",
       "389  오프라인 위치는 전남대학교 스토리움입니다! 에코노베이션 YouTube Live ht...  \n",
       "465  *23#팀의 너와 그린 기린 그림은 WEB 프로젝트로, 대학생들을 위한 지역기반 펀...  \n",
       "276  고정적으로 정해진 활동으로는 금요일 17시에 진행되는 주간 발표가 있습니다! 이외에...  "
      ]
     },
     "execution_count": 3,
     "metadata": {},
     "output_type": "execute_result"
    }
   ],
   "source": [
    "import pandas as pd\n",
    "from tqdm import tqdm\n",
    "\n",
    "data = pd.read_csv(\"econo_data.csv\", encoding='cp949')\n",
    "data.sample(5)"
   ]
  },
  {
   "cell_type": "code",
   "execution_count": 4,
   "id": "3436a56d",
   "metadata": {},
   "outputs": [],
   "source": [
    "from sentence_transformers import SentenceTransformer\n",
    "model = SentenceTransformer('snunlp/KR-SBERT-V40K-klueNLI-augSTS')"
   ]
  },
  {
   "cell_type": "code",
   "execution_count": 5,
   "id": "ce63d90d",
   "metadata": {},
   "outputs": [
    {
     "name": "stderr",
     "output_type": "stream",
     "text": [
      "551it [00:24, 22.83it/s]\n",
      "100%|█████████████████████████████████████████████████████████████████████████████| 551/551 [00:00<00:00, 33759.32it/s]\n",
      "100%|████████████████████████████████████████████████████████████████████████████████████| 1/1 [00:00<00:00,  1.66it/s]\n"
     ]
    }
   ],
   "source": [
    "ids = []\n",
    "metadatas = []\n",
    "embeddings = []\n",
    "\n",
    "for row in tqdm(data.iterrows()):\n",
    "    index = row[0]\n",
    "    query = row[1].Question\n",
    "    answer = row[1].Answer\n",
    "    \n",
    "    metadata = {\n",
    "        \"query\": query,\n",
    "        \"answer\": answer\n",
    "    }\n",
    "    \n",
    "    embedding = model.encode(query, normalize_embeddings=True)\n",
    "    \n",
    "    ids.append(str(index))\n",
    "    metadatas.append(metadata)\n",
    "    embeddings.append(embedding)\n",
    "    \n",
    "chunk_size = 1024  # 한 번에 처리할 chunk 크기 설정\n",
    "total_chunks = len(embeddings) // chunk_size + 1  # 전체 데이터를 chunk 단위로 나눈 횟수\n",
    "embeddings = [ e.tolist() for e in tqdm(embeddings)]  \n",
    "\n",
    "for chunk_idx in tqdm(range(total_chunks)):\n",
    "    start_idx = chunk_idx * chunk_size\n",
    "    end_idx = (chunk_idx + 1) * chunk_size\n",
    "    \n",
    "    # chunk 단위로 데이터 자르기\n",
    "    chunk_embeddings = embeddings[start_idx:end_idx]\n",
    "    chunk_ids = ids[start_idx:end_idx]\n",
    "    chunk_metadatas = metadatas[start_idx:end_idx]\n",
    "    \n",
    "    # chunk를 collection에 추가\n",
    "    collection.add(embeddings=chunk_embeddings, ids=chunk_ids, metadatas=chunk_metadatas)"
   ]
  },
  {
   "cell_type": "code",
   "execution_count": 6,
   "id": "51ea314f",
   "metadata": {},
   "outputs": [],
   "source": [
    "import numpy as np\n",
    "import faiss\n",
    "\n",
    "embeddings = np.array(embeddings)\n",
    "index = faiss.IndexFlatL2(embeddings.shape[1])\n",
    "index.add(embeddings)"
   ]
  },
  {
   "cell_type": "code",
   "execution_count": 7,
   "id": "8577f323",
   "metadata": {},
   "outputs": [],
   "source": [
    "def retriever(question):\n",
    "    query_embeddings=model.encode(question, normalize_embeddings=True, convert_to_tensor=True)\n",
    "    \n",
    "    top_k = 5\n",
    "    distances, indices = index.search(np.expand_dims(query_embeddings, axis=0), top_k)\n",
    "    \n",
    "    temp = data.iloc[indices[0]]\n",
    "    temp['distances'] = distances[0]\n",
    "    similar = temp[temp['distances'] < 1.1]\n",
    "    \n",
    "    result = {'Question' : similar['Question'].tolist(),\n",
    "             'Answer' : similar['Answer'].tolist()}\n",
    "    \n",
    "    prompt = f\"\"\"\n",
    "    에코노베이션이라는 동아리의 문의 해결을 도와주세요. You are an intelligent assistant helping the users with their questions\n",
    "    Strictly Use ONLY the following pieces of context to answer the question at the end. Think step-by-step and then answer.\n",
    "    The instructions should be in Korean. Reply via text only\n",
    " \n",
    "    CONTEXT: \n",
    "    {result}\n",
    " \n",
    "    QUESTION:\n",
    "    {question}\n",
    "    \n",
    "    Do not try to make up an answer:\n",
    "     - If the answer to the question cannot be determined from the context alone, say \"해당 질문은 https://econovation.kr/contact 혹은 에코노베이션 카카오톡 채널 https://pf.kakao.com/_laTLs로 문의주세요!\"\n",
    "     - If the context is empty, just say \"현재 서비스 준비중으로 답변드리기 어렵습니다.\"\n",
    "     \n",
    "    Strictly Use ONLY the following pieces of context to answer the question at the end.\n",
    "    Helpful Answer:\n",
    "    \"\"\"\n",
    "    \n",
    "    return prompt"
   ]
  },
  {
   "cell_type": "code",
   "execution_count": 8,
   "id": "1d010e90",
   "metadata": {},
   "outputs": [],
   "source": [
    "from langchain.chat_models import ChatOpenAI\n",
    "from langchain.schema import AIMessage, HumanMessage\n",
    "import os\n",
    "import openai\n",
    "\n",
    "os.environ[\"OPENAI_API_KEY\"] = 'openai_key'"
   ]
  },
  {
   "cell_type": "code",
   "execution_count": 9,
   "id": "ea6ac516",
   "metadata": {},
   "outputs": [],
   "source": [
    "llm = ChatOpenAI(temperature=1.0, model='gpt-3.5-turbo-0613')"
   ]
  },
  {
   "cell_type": "code",
   "execution_count": 10,
   "id": "50fa225f",
   "metadata": {},
   "outputs": [],
   "source": [
    "def response(message, history):\n",
    "    message = retriever(message)\n",
    "    \n",
    "    history_langchain_format = []\n",
    "    \n",
    "    for human, ai in history:\n",
    "                history_langchain_format.append(HumanMessage(content=human))\n",
    "                history_langchain_format.append(AIMessage(content=ai))\n",
    "    \n",
    "    history_langchain_format.append(HumanMessage(content=message))\n",
    "    gpt_response = llm(history_langchain_format)\n",
    "    return gpt_response.content"
   ]
  },
  {
   "cell_type": "code",
   "execution_count": 11,
   "id": "79b499bd",
   "metadata": {},
   "outputs": [
    {
     "name": "stdout",
     "output_type": "stream",
     "text": [
      "Running on local URL:  http://127.0.0.1:7860\n",
      "Running on public URL: https://31adfc878488daa667.gradio.live\n",
      "\n",
      "This share link expires in 72 hours. For free permanent hosting and GPU upgrades, run `gradio deploy` from Terminal to deploy to Spaces (https://huggingface.co/spaces)\n"
     ]
    },
    {
     "data": {
      "text/html": [
       "<div><iframe src=\"https://31adfc878488daa667.gradio.live\" width=\"100%\" height=\"500\" allow=\"autoplay; camera; microphone; clipboard-read; clipboard-write;\" frameborder=\"0\" allowfullscreen></iframe></div>"
      ],
      "text/plain": [
       "<IPython.core.display.HTML object>"
      ]
     },
     "metadata": {},
     "output_type": "display_data"
    },
    {
     "data": {
      "text/plain": []
     },
     "execution_count": 11,
     "metadata": {},
     "output_type": "execute_result"
    },
    {
     "name": "stderr",
     "output_type": "stream",
     "text": [
      "C:\\Users\\kt826\\AppData\\Local\\Temp\\ipykernel_13040\\3337519297.py:8: SettingWithCopyWarning: \n",
      "A value is trying to be set on a copy of a slice from a DataFrame.\n",
      "Try using .loc[row_indexer,col_indexer] = value instead\n",
      "\n",
      "See the caveats in the documentation: https://pandas.pydata.org/pandas-docs/stable/user_guide/indexing.html#returning-a-view-versus-a-copy\n",
      "  temp['distances'] = distances[0]\n"
     ]
    }
   ],
   "source": [
    "import gradio as gr\n",
    "\n",
    "gr.ChatInterface(\n",
    "        fn=response,\n",
    "        textbox=gr.Textbox(placeholder=\"대화를 입력해주세요.\", container=False, scale=7),\n",
    "        title=\"ECONOVATION CHATBOT\",\n",
    "        examples=[[\"에코노베이션에서는 어떤 활동을 할 수 있나요?\"], [\"어떻게 지원할 수 있나요?\"], [\"현재는 몇 기수까지 있어?\"]],\n",
    "        retry_btn=\"다시보내기 ↩\",\n",
    "        undo_btn=\"지난 대화 삭제 ❌\",\n",
    "        clear_btn=\"전체 대화 삭제 💫\",\n",
    ").launch(share=True)"
   ]
  },
  {
   "cell_type": "code",
   "execution_count": null,
   "id": "99a3fecc",
   "metadata": {},
   "outputs": [],
   "source": []
  }
 ],
 "metadata": {
  "kernelspec": {
   "display_name": "Python 3 (ipykernel)",
   "language": "python",
   "name": "python3"
  },
  "language_info": {
   "codemirror_mode": {
    "name": "ipython",
    "version": 3
   },
   "file_extension": ".py",
   "mimetype": "text/x-python",
   "name": "python",
   "nbconvert_exporter": "python",
   "pygments_lexer": "ipython3",
   "version": "3.9.12"
  }
 },
 "nbformat": 4,
 "nbformat_minor": 5
}
